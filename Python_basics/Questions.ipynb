{
  "nbformat": 4,
  "nbformat_minor": 0,
  "metadata": {
    "colab": {
      "provenance": []
    },
    "kernelspec": {
      "name": "python3",
      "display_name": "Python 3"
    },
    "language_info": {
      "name": "python"
    }
  },
  "cells": [
    {
      "cell_type": "markdown",
      "source": [
        "# Seperate odd and even values in two lists"
      ],
      "metadata": {
        "id": "Ro7q3Zs79c_q"
      }
    },
    {
      "cell_type": "code",
      "execution_count": null,
      "metadata": {
        "colab": {
          "base_uri": "https://localhost:8080/"
        },
        "id": "kvwApeX5sXLc",
        "outputId": "050fb200-f51e-484a-c1b7-f9c4be7b7cf3"
      },
      "outputs": [
        {
          "output_type": "stream",
          "name": "stdout",
          "text": [
            "[2, 4, 6, 8, 10]\n",
            "[1, 3, 5, 7, 9]\n"
          ]
        }
      ],
      "source": [
        "l=[]\n",
        "o=[]\n",
        "for i in range(1,11):\n",
        "  if i%2==0:\n",
        "    l.append(i)\n",
        "  else:\n",
        "    o.append(i)\n",
        "print(l)\n",
        "print(o)"
      ]
    },
    {
      "cell_type": "markdown",
      "source": [
        "# Print grades according to the marks"
      ],
      "metadata": {
        "id": "wZTLO0lo9nPw"
      }
    },
    {
      "cell_type": "code",
      "source": [
        "marks=int(input(\"Enter your marks\"))\n",
        "if marks>=90:\n",
        "  print(\"A+\")\n",
        "elif marks>=80 and marks<90:\n",
        "  print(\"A\")\n",
        "elif marks>=70 and marks<80:\n",
        "  print(\"B\")\n",
        "elif marks>=60 and marks<70:\n",
        "  print(\"C\")\n",
        "else:\n",
        "  print(\"F\")"
      ],
      "metadata": {
        "colab": {
          "base_uri": "https://localhost:8080/"
        },
        "id": "VWHzBttFtVmF",
        "outputId": "f0aebe55-712b-4e8d-af08-23b14eafd69a"
      },
      "execution_count": null,
      "outputs": [
        {
          "output_type": "stream",
          "name": "stdout",
          "text": [
            "Enter your marks92\n",
            "A+\n"
          ]
        }
      ]
    },
    {
      "cell_type": "markdown",
      "source": [
        "# Calculator with basic operators"
      ],
      "metadata": {
        "id": "hjxOMfBz9uKR"
      }
    },
    {
      "cell_type": "code",
      "source": [
        "a=int(input(\"Enter first number:\"))\n",
        "op=input(\"Enter the operator:\")\n",
        "b=int(input(\"Enter second number:\"))\n",
        "if op=='+':\n",
        "  print('Answer:',a+b)\n",
        "elif op=='-':\n",
        "  print('Answer:',a-b)\n",
        "elif op=='*':\n",
        "  print('answer:',a*b)\n",
        "elif op=='/':\n",
        "  print('Answer:',a/b)\n",
        "elif op=='**':\n",
        "  print('Answer:',a**b)\n",
        "elif op=='%':\n",
        "  print('Answer:',a%b)\n",
        "elif op=='//':\n",
        "  print('Answer:',a//b)\n",
        "else:\n",
        "  print(\"n/a\")"
      ],
      "metadata": {
        "colab": {
          "base_uri": "https://localhost:8080/"
        },
        "id": "2BTszzJAvi4t",
        "outputId": "13ea106f-b794-48ac-a2ad-ab83c63ec1bd"
      },
      "execution_count": null,
      "outputs": [
        {
          "output_type": "stream",
          "name": "stdout",
          "text": [
            "Enter first number:8\n",
            "Enter the operator:*\n",
            "Enter second number:4\n",
            "answer: 32\n"
          ]
        }
      ]
    },
    {
      "cell_type": "markdown",
      "source": [
        "# Check if a number is prime or not"
      ],
      "metadata": {
        "id": "bZQt11rZ91vw"
      }
    },
    {
      "cell_type": "code",
      "source": [
        "n=int(input(\"Enter a number\"))\n",
        "for i in range(2,n):\n",
        "  if n%i==0:\n",
        "    print('Not a prime number')\n",
        "    break\n",
        "else:\n",
        "  print(\" prime number\")\n"
      ],
      "metadata": {
        "colab": {
          "base_uri": "https://localhost:8080/"
        },
        "id": "GWNwI3NWyi6r",
        "outputId": "56c3b475-4c1d-4e3c-8c9c-fee2cd948088"
      },
      "execution_count": null,
      "outputs": [
        {
          "output_type": "stream",
          "name": "stdout",
          "text": [
            "Enter a number10\n",
            "Not a prime number\n"
          ]
        }
      ]
    },
    {
      "cell_type": "markdown",
      "source": [
        "# Print a list in reverse order"
      ],
      "metadata": {
        "id": "OsVeXSMi95aC"
      }
    },
    {
      "cell_type": "code",
      "source": [
        "l=[1,2,3]\n",
        "print(l[::-1])"
      ],
      "metadata": {
        "colab": {
          "base_uri": "https://localhost:8080/"
        },
        "id": "yayagpx76xF0",
        "outputId": "1d8785da-0689-4dce-a182-3f2102086ee5"
      },
      "execution_count": null,
      "outputs": [
        {
          "output_type": "stream",
          "name": "stdout",
          "text": [
            "[3, 2, 1]\n"
          ]
        }
      ]
    },
    {
      "cell_type": "markdown",
      "source": [
        "# Check if two words are Anagram or not"
      ],
      "metadata": {
        "id": "hC79rk0k99Hh"
      }
    },
    {
      "cell_type": "code",
      "source": [
        "word1='listen'\n",
        "word2='silent'\n",
        "if sorted(word1)==sorted(word2):\n",
        "  print(\"Is an anagram\")\n",
        "else:\n",
        "  print(\"Is not anagram\")"
      ],
      "metadata": {
        "colab": {
          "base_uri": "https://localhost:8080/"
        },
        "id": "Qccbv-Uh7tKq",
        "outputId": "d5f8223a-b356-4e5f-ce9f-ed3b46fc72e3"
      },
      "execution_count": 1,
      "outputs": [
        {
          "output_type": "stream",
          "name": "stdout",
          "text": [
            "Is an anagram\n"
          ]
        }
      ]
    },
    {
      "cell_type": "code",
      "source": [],
      "metadata": {
        "id": "LuT5F3tb-EfE"
      },
      "execution_count": null,
      "outputs": []
    }
  ]
}